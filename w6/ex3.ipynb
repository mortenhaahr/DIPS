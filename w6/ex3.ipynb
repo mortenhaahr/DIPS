{
 "cells": [
  {
   "cell_type": "code",
   "execution_count": 5,
   "metadata": {},
   "outputs": [],
   "source": [
    "# 1. Implement the triangulation algorithm “Algorithm 1: Final version of the ToTal algorithm”, page 572 in reading:\n",
    "# • Vincent Pierlot and Marc Van Droogenbroeck. “A New Three Object Triangulation\n",
    "# Algorithm for Mobile Robot Positioning”. In: IEEE, Transactions on Robotics 30.3\n",
    "# (2014).\n",
    "# \n",
    "# You do not have to consider the special cases described in “Algorithm 2” page 573. Run\n",
    "# some numerical experiments and plot the results thereof to illustrate how the algorithm\n",
    "# works.\n",
    "\n"
   ]
  },
  {
   "cell_type": "code",
   "execution_count": 18,
   "metadata": {},
   "outputs": [
    {
     "name": "stdout",
     "output_type": "stream",
     "text": [
      "D = -55.3820932004515\n",
      "coord: [mpf('1.5222487898355146'), mpf('4.5010651574541889')]\n"
     ]
    },
    {
     "data": {
      "text/plain": [
       "<matplotlib.collections.PathCollection at 0x17aa946e940>"
      ]
     },
     "execution_count": 18,
     "metadata": {},
     "output_type": "execute_result"
    },
    {
     "data": {
      "image/png": "[encoded data removed]",
      "text/plain": [
       "<Figure size 432x288 with 1 Axes>"
      ]
     },
     "metadata": {
      "needs_background": "light"
     },
     "output_type": "display_data"
    }
   ],
   "source": [
    "\n",
    "from mpmath import cot\n",
    "import matplotlib.pyplot as plt\n",
    "import numpy as np\n",
    "\n",
    "Coordinates = [[2,2], [1,5], [5,4]]\n",
    "Angles = [100, 220, 340]\n",
    "\n",
    "\n",
    "def algo1(coordsX, coordsY, angles):\n",
    "\tx1m = coordsX[0] - coordsX[1]\n",
    "\tx3m = coordsX[2] - coordsX[1]\n",
    "\n",
    "\ty1m = coordsY[0] - coordsY[1]\n",
    "\ty3m = coordsY[2] - coordsY[1]\n",
    "\n",
    "\tT12 = cot(angles[1] - angles[0])\n",
    "\tT23 = cot(angles[2] - angles[1])\n",
    "\n",
    "\tT31 = (1 - T12 * T23) / (T12 + T23)\n",
    "\n",
    "\tx12m = x1m + T12 * y1m\n",
    "\tx23m = x3m - T23 * y3m\n",
    "\t\n",
    "\ty12m = y1m - (T12 * x1m)\n",
    "\ty23m = y3m + (T23 * x3m)\n",
    "\n",
    "\tx31m = (x3m + x1m) + T31 * (y3m - y1m)\n",
    "\ty31m = (y3m + y1m) - T31 * (x3m - x1m)\n",
    "\n",
    "\tk31m = x1m * x3m + y1m * y3m + T31 * (x1m * y3m - x3m * y1m)\n",
    "\n",
    "\tD = (x12m - x23m) * (y23m - y31m) - (y12m - y23m) * (x23m - x31m)\n",
    "\n",
    "\tprint(f\"D = {D}\");\n",
    "\tif D == 0:\n",
    "\t\treturn;\n",
    "\t\n",
    "\txR = coordsX[1] + (k31m * (y12m - y23m)) / D\n",
    "\tyR = coordsY[1] + (k31m * (x23m - x12m)) / D\n",
    "\n",
    "\treturn [xR, yR]\n",
    "\n",
    "coordinatesx = [i[0] for i in Coordinates]\n",
    "coordinatesy = [i[1] for i in Coordinates]\n",
    "\n",
    "\n",
    "coord = algo1(coordinatesx, coordinatesy, Angles)\n",
    "\n",
    "print(f\"coord: {coord}\")\n",
    "\n",
    "plt.scatter(coordinatesx, coordinatesy)\n",
    "\n",
    "plt.scatter(coord[0], coord[1])\n"
   ]
  },
  {
   "cell_type": "markdown",
   "metadata": {},
   "source": [
    "# 2 Device your own trilateration algorithm (or re-implement an existing one) and run some\n",
    "# numerical experiments and plot the results thereof to illustrate how the algorithm works.\n",
    "# Consider using RSSI as a distance metric so you can take advantage of your exercise\n",
    "# solution from earlier. Note, the RSSI and Tx-Rx distance are not proportional; use a\n",
    "# more correct relationship if you can (hint: look at a common radio propagation model).\n",
    "\n"
   ]
  }
 ],
 "metadata": {
  "interpreter": {
   "hash": "f2575392019334285e0602a4035eec46b9260ee4c95297ea34ade6e3c8b8fcaf"
  },
  "kernelspec": {
   "display_name": "Python 3.8.10 64-bit",
   "language": "python",
   "name": "python3"
  },
  "language_info": {
   "codemirror_mode": {
    "name": "ipython",
    "version": 3
   },
   "file_extension": ".py",
   "mimetype": "text/x-python",
   "name": "python",
   "nbconvert_exporter": "python",
   "pygments_lexer": "ipython3",
   "version": "3.8.10"
  },
  "orig_nbformat": 4
 },
 "nbformat": 4,
 "nbformat_minor": 2
}
